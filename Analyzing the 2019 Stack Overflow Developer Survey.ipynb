{
 "cells": [
  {
   "cell_type": "code",
   "execution_count": 2,
   "metadata": {},
   "outputs": [],
   "source": [
    "import csv\n",
    "from collections import defaultdict, Counter"
   ]
  },
  {
   "cell_type": "code",
   "execution_count": 3,
   "metadata": {},
   "outputs": [
    {
     "output_type": "stream",
     "name": "stdout",
     "text": "Yes: 80.17%\nNo: 19.83%\n"
    }
   ],
   "source": [
    "with open('data/survey_results_public.csv', encoding='utf-8') as f:\n",
    "    csv_reader = csv.DictReader(f)\n",
    "\n",
    "    yes_count = 0\n",
    "    no_count = 0\n",
    "    \n",
    "    for line in csv_reader:\n",
    "        if line['Hobbyist'] == 'Yes':\n",
    "            yes_count += 1\n",
    "        elif line['Hobbyist'] == 'No':\n",
    "            no_count += 1\n",
    "\n",
    "total = yes_count + no_count \n",
    "\n",
    "yes_pct = (yes_count / total) * 100\n",
    "yes_pct = round(yes_pct, 2)\n",
    "\n",
    "no_pct = (no_count / total) * 100\n",
    "no_pct = round(no_pct, 2)\n",
    "\n",
    "print(f'Yes: {yes_pct}%')\n",
    "print(f'No: {no_pct}%')"
   ]
  },
  {
   "cell_type": "code",
   "execution_count": 4,
   "metadata": {},
   "outputs": [
    {
     "output_type": "stream",
     "name": "stdout",
     "text": "Yes: 80.17%\nNo: 19.83%\n"
    }
   ],
   "source": [
    "with open('data/survey_results_public.csv', encoding='utf-8') as f:\n",
    "    csv_reader = csv.DictReader(f)\n",
    "\n",
    "    counts = defaultdict(int)\n",
    "    \n",
    "    for line in csv_reader:\n",
    "        counts[line['Hobbyist']] += 1\n",
    "\n",
    "total = counts['Yes'] + counts['No'] \n",
    "\n",
    "yes_pct = (counts['Yes'] / total) * 100\n",
    "yes_pct = round(yes_pct, 2)\n",
    "\n",
    "no_pct = (counts['No'] / total) * 100\n",
    "no_pct = round(no_pct, 2)\n",
    "\n",
    "print(f'Yes: {yes_pct}%')\n",
    "print(f'No: {no_pct}%')"
   ]
  },
  {
   "cell_type": "code",
   "execution_count": 5,
   "metadata": {},
   "outputs": [
    {
     "output_type": "stream",
     "name": "stdout",
     "text": "Yes: 80.17%\nNo: 19.83%\n"
    }
   ],
   "source": [
    "with open('data/survey_results_public.csv', encoding='utf-8') as f:\n",
    "    csv_reader = csv.DictReader(f)\n",
    "\n",
    "    counts = Counter()\n",
    "    \n",
    "    for line in csv_reader:\n",
    "        counts[line['Hobbyist']] += 1\n",
    "\n",
    "total = counts['Yes'] + counts['No'] \n",
    "\n",
    "yes_pct = (counts['Yes'] / total) * 100\n",
    "yes_pct = round(yes_pct, 2)\n",
    "\n",
    "no_pct = (counts['No'] / total) * 100\n",
    "no_pct = round(no_pct, 2)\n",
    "\n",
    "print(f'Yes: {yes_pct}%')\n",
    "print(f'No: {no_pct}%')"
   ]
  },
  {
   "cell_type": "code",
   "execution_count": 6,
   "metadata": {},
   "outputs": [
    {
     "output_type": "stream",
     "name": "stdout",
     "text": "Counter({'JavaScript': 59219, 'HTML/CSS': 55466, 'SQL': 47544, 'Python': 36443, 'Java': 35917, 'Bash/Shell/PowerShell': 31991, 'C#': 27097, 'PHP': 23030, 'C++': 20524, 'TypeScript': 18523, 'C': 18017, 'Other(s):': 7920, 'Ruby': 7331, 'Go': 7201, 'Assembly': 5833, 'Swift': 5744, 'Kotlin': 5620, 'R': 5048, 'VBA': 4781, 'Objective-C': 4191, 'Scala': 3309, 'Rust': 2794, 'Dart': 1683, 'NA': 1314, 'Elixir': 1260, 'Clojure': 1254, 'WebAssembly': 1015, 'F#': 973, 'Erlang': 777})\n"
    }
   ],
   "source": [
    "with open('data/survey_results_public.csv', encoding='utf-8') as f:\n",
    "    csv_reader = csv.DictReader(f)\n",
    "    total = 0\n",
    "\n",
    "    language_counter = Counter()\n",
    "    \n",
    "    for line in csv_reader:\n",
    "        languages = line['LanguageWorkedWith'].split(';')\n",
    "\n",
    "        language_counter.update(languages)\n",
    "\n",
    "        total += 1\n",
    "\n",
    "print(language_counter)"
   ]
  },
  {
   "cell_type": "code",
   "execution_count": 7,
   "metadata": {},
   "outputs": [
    {
     "output_type": "execute_result",
     "data": {
      "text/plain": "[('JavaScript', 59219),\n ('HTML/CSS', 55466),\n ('SQL', 47544),\n ('Python', 36443),\n ('Java', 35917)]"
     },
     "metadata": {},
     "execution_count": 7
    }
   ],
   "source": [
    "language_counter.most_common(5)"
   ]
  },
  {
   "cell_type": "code",
   "execution_count": 8,
   "metadata": {},
   "outputs": [
    {
     "output_type": "stream",
     "name": "stdout",
     "text": "JavaScript: 66.63%\nHTML/CSS: 62.4%\nSQL: 53.49%\nPython: 41.0%\nJava: 40.41%\n"
    }
   ],
   "source": [
    "for language, value in language_counter.most_common(5):\n",
    "    language_pct = (value / total) * 100\n",
    "    language_pct = round(language_pct, 2)\n",
    "    \n",
    "    print(f'{language}: {language_pct}%')"
   ]
  },
  {
   "cell_type": "code",
   "execution_count": 9,
   "metadata": {},
   "outputs": [
    {
     "output_type": "stream",
     "name": "stdout",
     "text": "NA\n\tHTML/CSS: 54.9%\n\tPython: 51.09%\n\tJavaScript: 50.58%\n\tJava: 42.71%\n\tC++: 35.02%\n\nDeveloper, desktop or enterprise applications\n\tJavaScript: 67.84%\n\tHTML/CSS: 64.55%\n\tSQL: 63.56%\n\tC#: 53.69%\n\tJava: 44.69%\n\nDeveloper, front-end\n\tJavaScript: 87.72%\n\tHTML/CSS: 83.62%\n\tSQL: 58.65%\n\tJava: 37.6%\n\tPHP: 35.94%\n\nDesigner\n\tHTML/CSS: 78.88%\n\tJavaScript: 78.33%\n\tSQL: 60.18%\n\tPHP: 40.23%\n\tJava: 39.44%\n\nDeveloper, back-end\n\tJavaScript: 72.23%\n\tHTML/CSS: 65.42%\n\tSQL: 64.01%\n\tJava: 44.03%\n\tPython: 40.67%\n\nDeveloper, full-stack\n\tJavaScript: 86.15%\n\tHTML/CSS: 78.94%\n\tSQL: 65.54%\n\tJava: 40.74%\n\tBash/Shell/PowerShell: 37.91%\n\nAcademic researcher\n\tPython: 61.06%\n\tHTML/CSS: 55.87%\n\tJavaScript: 54.25%\n\tSQL: 47.55%\n\tJava: 42.26%\n\nDeveloper, mobile\n\tJavaScript: 67.72%\n\tHTML/CSS: 62.46%\n\tJava: 57.21%\n\tSQL: 51.27%\n\tC#: 34.34%\n\nData or business analyst\n\tSQL: 73.88%\n\tHTML/CSS: 62.11%\n\tJavaScript: 61.33%\n\tPython: 51.86%\n\tBash/Shell/PowerShell: 38.43%\n\nData scientist or machine learning specialist\n\tPython: 79.33%\n\tSQL: 58.44%\n\tJavaScript: 51.38%\n\tHTML/CSS: 50.43%\n\tBash/Shell/PowerShell: 44.49%\n\nDatabase administrator\n\tSQL: 81.7%\n\tJavaScript: 78.11%\n\tHTML/CSS: 76.19%\n\tBash/Shell/PowerShell: 45.2%\n\tPHP: 44.16%\n\nEngineer, data\n\tSQL: 66.75%\n\tPython: 64.31%\n\tJavaScript: 60.13%\n\tHTML/CSS: 56.47%\n\tBash/Shell/PowerShell: 48.55%\n\nEngineer, site reliability\n\tJavaScript: 69.43%\n\tBash/Shell/PowerShell: 64.05%\n\tHTML/CSS: 62.79%\n\tSQL: 61.37%\n\tPython: 59.23%\n\nDeveloper, QA or test\n\tJavaScript: 73.38%\n\tHTML/CSS: 70.31%\n\tSQL: 64.81%\n\tBash/Shell/PowerShell: 45.73%\n\tJava: 45.23%\n\nDevOps specialist\n\tJavaScript: 73.67%\n\tHTML/CSS: 66.66%\n\tSQL: 64.56%\n\tBash/Shell/PowerShell: 63.98%\n\tPython: 52.44%\n\nDeveloper, game or graphics\n\tJavaScript: 69.02%\n\tHTML/CSS: 66.37%\n\tC#: 54.31%\n\tSQL: 48.91%\n\tC++: 47.85%\n\nEducator\n\tJavaScript: 70.15%\n\tHTML/CSS: 70.15%\n\tSQL: 56.92%\n\tPython: 47.02%\n\tJava: 44.26%\n\nStudent\n\tHTML/CSS: 68.13%\n\tJavaScript: 63.53%\n\tJava: 54.37%\n\tPython: 54.37%\n\tSQL: 51.83%\n\nEngineering manager\n\tJavaScript: 72.35%\n\tHTML/CSS: 65.02%\n\tSQL: 60.4%\n\tBash/Shell/PowerShell: 49.1%\n\tPython: 46.86%\n\nSenior executive/VP\n\tJavaScript: 75.94%\n\tHTML/CSS: 71.81%\n\tSQL: 64.12%\n\tBash/Shell/PowerShell: 46.8%\n\tPython: 46.37%\n\nSystem administrator\n\tJavaScript: 73.45%\n\tHTML/CSS: 72.57%\n\tSQL: 67.94%\n\tBash/Shell/PowerShell: 58.44%\n\tPython: 51.36%\n\nDeveloper, embedded applications or devices\n\tJavaScript: 60.89%\n\tHTML/CSS: 57.75%\n\tC++: 51.08%\n\tSQL: 50.97%\n\tPython: 50.95%\n\nProduct manager\n\tJavaScript: 75.0%\n\tHTML/CSS: 71.92%\n\tSQL: 63.42%\n\tPython: 39.63%\n\tBash/Shell/PowerShell: 38.96%\n\nScientist\n\tPython: 69.48%\n\tHTML/CSS: 51.04%\n\tJavaScript: 48.77%\n\tBash/Shell/PowerShell: 47.83%\n\tSQL: 44.21%\n\nMarketing or sales professional\n\tHTML/CSS: 76.82%\n\tJavaScript: 71.79%\n\tSQL: 58.97%\n\tPHP: 44.21%\n\tPython: 38.26%\n\n"
    }
   ],
   "source": [
    "with open('data/survey_results_public.csv', encoding='utf-8') as f:\n",
    "    csv_reader = csv.DictReader(f)\n",
    "\n",
    "    dev_type_info = {}\n",
    "    \n",
    "    for line in csv_reader:\n",
    "        dev_types = line['DevType'].split(';') \n",
    "        languages = line['LanguageWorkedWith'].split(';')\n",
    "\n",
    "        for dev_type in dev_types:\n",
    "            dev_type_info.setdefault(dev_type, {\n",
    "                'total': 0,\n",
    "                'language_counter': Counter()\n",
    "            })\n",
    "\n",
    "            dev_type_info[dev_type]['language_counter'].update(languages)\n",
    "            dev_type_info[dev_type]['total'] += 1\n",
    "\n",
    "for dev_type, info in dev_type_info.items():\n",
    "    print(dev_type)\n",
    "\n",
    "    for language, value in info['language_counter'].most_common(5):\n",
    "        language_pct = (value / info['total']) * 100\n",
    "        language_pct = round(language_pct, 2)\n",
    "\n",
    "        print(f'\\t{language}: {language_pct}%')\n",
    "\n",
    "    print('')"
   ]
  },
  {
   "cell_type": "code",
   "execution_count": null,
   "metadata": {},
   "outputs": [],
   "source": []
  }
 ],
 "metadata": {
  "kernelspec": {
   "display_name": "Python 3.7.4 32-bit",
   "language": "python",
   "name": "python37432bitd3a0060cef0f4af1af2ab94c937cd8a5"
  },
  "language_info": {
   "codemirror_mode": {
    "name": "ipython",
    "version": 3
   },
   "file_extension": ".py",
   "mimetype": "text/x-python",
   "name": "python",
   "nbconvert_exporter": "python",
   "pygments_lexer": "ipython3",
   "version": "3.7.4-final"
  }
 },
 "nbformat": 4,
 "nbformat_minor": 2
}